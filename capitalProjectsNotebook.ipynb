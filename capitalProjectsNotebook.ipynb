{
 "cells": [
  {
   "cell_type": "markdown",
   "metadata": {},
   "source": [
    "# Capital Projects CSV Data Pull\n",
    "    #This program tabulates through the Capital Projects Data for Allegheny County and pulls out the # of completed projects by neighborhood\n",
    "    "
   ]
  },
  {
   "cell_type": "code",
   "execution_count": 1,
   "metadata": {},
   "outputs": [],
   "source": [
    "#Run this first***\n",
    "import csv"
   ]
  },
  {
   "cell_type": "markdown",
   "metadata": {},
   "source": [
    "## Process CSV file:\n",
    "    ##use DictReader to open the file and parse through \n",
    "    headers is a variable set to the headers info use the hashed out print statement to print headers in file\n",
    "    ##loop through for style via strs in variables if the neighborhood variable is in the file it adds one to the \n",
    "    completed projects count\n",
    "    ##If the neighborhood isnt in the dict it will add it in at a starting count of 1\n",
    "    #Will Print success if done properly"
   ]
  },
  {
   "cell_type": "code",
   "execution_count": 2,
   "metadata": {},
   "outputs": [
    {
     "name": "stdout",
     "output_type": "stream",
     "text": [
      "Dictionary Population Successful! :: \n",
      "\r\n",
      "Headers Populated with :: \n",
      "                         ['id', 'name', 'task_description', 'area', 'budgeted_amount', 'status', 'asset_id', 'asset_type', 'fiscal_year', 'start_date', 'inactive', 'neighborhood', 'council_district', 'ward', 'tract', 'public_works_division', 'pli_division', 'police_zone', 'fire_zone', 'latitude', 'longitude']\n"
     ]
    }
   ],
   "source": [
    "file = 'capitalProjects.csv'\n",
    "cmpltdProjects = {}\n",
    "def printHeaderRows():\n",
    "    \n",
    "    with open(file) as csvFile:\n",
    "        dReader = csv.DictReader(csvFile)\n",
    "        headers = dReader.fieldnames\n",
    "        \n",
    "        #Undo above commment to see headers\n",
    "        for row in dReader:\n",
    "            if row['status'] == 'Completed':\n",
    "                tmpHood = row['neighborhood']\n",
    "                if row['neighborhood'] in cmpltdProjects:\n",
    "                    cmpltdProjects[tmpHood] = cmpltdProjects[tmpHood] + 1\n",
    "                else:\n",
    "                    cmpltdProjects.update({tmpHood: 1})\n",
    "        #Most of the following print statements are just for formatting reasons\n",
    "        print('Dictionary Population Successful! :: ')\n",
    "        print('\\r')\n",
    "        print('Headers Populated with :: ')\n",
    "        print('                        ', headers)\n",
    "                \n",
    "            \n",
    "        \n",
    "        \n",
    "#Run Function               \n",
    "printHeaderRows()\n"
   ]
  },
  {
   "cell_type": "markdown",
   "metadata": {},
   "source": [
    "## Print the unsorted dictionary:\n",
    "    ##looping through for style once again we print each neighborhood and completed projects count"
   ]
  },
  {
   "cell_type": "code",
   "execution_count": 3,
   "metadata": {},
   "outputs": [
    {
     "name": "stdout",
     "output_type": "stream",
     "text": [
      "Greenfield 5\n",
      "Central Business District 4\n",
      "Squirrel Hill South 2\n",
      "Brookline 9\n",
      "South Oakland 1\n",
      "Carrick 3\n",
      "Troy Hill 4\n",
      "Shadyside 4\n",
      "Larimer 2\n",
      "Central Lawrenceville 1\n",
      "East Liberty 1\n",
      "Manchester 1\n",
      "Lower Lawrenceville 4\n",
      "Sheraden 1\n",
      "Spring Hill-City View 2\n",
      "Allegheny Center 6\n",
      "Polish Hill 1\n",
      "South Side Slopes 3\n",
      "Beechview 5\n",
      "Hazelwood 3\n",
      "Allentown 1\n",
      "Windgap 1\n",
      "Point Breeze 1\n",
      "Elliott 4\n",
      "Brighton Heights 4\n",
      "Overbrook 1\n",
      "Mount Washington 1\n",
      "Swisshelm Park 1\n",
      "South Side Flats 5\n",
      "Stanton Heights 2\n",
      "West End 4\n",
      "Bloomfield 4\n",
      "Crafton Heights 4\n",
      "Esplen 1\n",
      "Middle Hill 2\n",
      "Marshall-Shadeland 2\n",
      "Lincoln-Lemington-Belmar 1\n",
      "Highland Park 1\n",
      "Homewood South 1\n",
      "Beltzhoover 1\n",
      " 17\n",
      "Fineview 1\n"
     ]
    }
   ],
   "source": [
    "def printDict():\n",
    "    for i in cmpltdProjects:\n",
    "        print(i, cmpltdProjects[i])\n",
    "\n",
    "printDict()\n",
    "    "
   ]
  },
  {
   "cell_type": "markdown",
   "metadata": {},
   "source": [
    "## Using the sorted() we will sort the dictionary by values (completed project count) in an asscending manner\n",
    "    ##For style loop is used with the sorted() to populate a new sortedDict dictionary with the neighborhood and cmpltd project count in an asscending manner"
   ]
  },
  {
   "cell_type": "code",
   "execution_count": 4,
   "metadata": {},
   "outputs": [
    {
     "name": "stdout",
     "output_type": "stream",
     "text": [
      "South Oakland 1\n",
      "Central Lawrenceville 1\n",
      "East Liberty 1\n",
      "Manchester 1\n",
      "Sheraden 1\n",
      "Polish Hill 1\n",
      "Allentown 1\n",
      "Windgap 1\n",
      "Point Breeze 1\n",
      "Overbrook 1\n",
      "Mount Washington 1\n",
      "Swisshelm Park 1\n",
      "Esplen 1\n",
      "Lincoln-Lemington-Belmar 1\n",
      "Highland Park 1\n",
      "Homewood South 1\n",
      "Beltzhoover 1\n",
      "Fineview 1\n",
      "Squirrel Hill South 2\n",
      "Larimer 2\n",
      "Spring Hill-City View 2\n",
      "Stanton Heights 2\n",
      "Middle Hill 2\n",
      "Marshall-Shadeland 2\n",
      "Carrick 3\n",
      "South Side Slopes 3\n",
      "Hazelwood 3\n",
      "Central Business District 4\n",
      "Troy Hill 4\n",
      "Shadyside 4\n",
      "Lower Lawrenceville 4\n",
      "Elliott 4\n",
      "Brighton Heights 4\n",
      "West End 4\n",
      "Bloomfield 4\n",
      "Crafton Heights 4\n",
      "Greenfield 5\n",
      "Beechview 5\n",
      "South Side Flats 5\n",
      "Allegheny Center 6\n",
      "Brookline 9\n",
      " 17\n"
     ]
    }
   ],
   "source": [
    "import operator\n",
    "sortedDict = {}\n",
    "for i in sorted(cmpltdProjects.items(), key=operator.itemgetter(1)):\n",
    "    sortedDict[i[0]] = i[1]\n",
    "    #print(i[0], i[1])\n",
    "\n",
    "for i in sortedDict:\n",
    "    print(i, sortedDict[i])\n",
    "#print(sortedDict)"
   ]
  },
  {
   "cell_type": "code",
   "execution_count": null,
   "metadata": {},
   "outputs": [],
   "source": []
  }
 ],
 "metadata": {
  "celltoolbar": "Raw Cell Format",
  "kernelspec": {
   "display_name": "Python 3",
   "language": "python",
   "name": "python3"
  },
  "language_info": {
   "codemirror_mode": {
    "name": "ipython",
    "version": 3
   },
   "file_extension": ".py",
   "mimetype": "text/x-python",
   "name": "python",
   "nbconvert_exporter": "python",
   "pygments_lexer": "ipython3",
   "version": "3.7.1"
  }
 },
 "nbformat": 4,
 "nbformat_minor": 4
}
