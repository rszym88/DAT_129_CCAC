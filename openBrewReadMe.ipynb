{
 "cells": [
  {
   "cell_type": "markdown",
   "metadata": {},
   "source": [
    "# :: Week 7 :: \n",
    "# :: OpenBrewDB API Intro ::  "
   ]
  },
  {
   "cell_type": "markdown",
   "metadata": {},
   "source": [
    "##      :: About :: \n",
    "    [+] API Introduction\n",
    "    [+] In-class example was from the NHTSA API which logs car safety data\n",
    "    [+] Tasked with finding out own API, I found the openBrewDB API \n",
    "        - I show off several methods on how to manipulate the requests in the api\n",
    "        - also I created a py program to input vartious variables into the program\n",
    "    [+]Author/Version\n",
    "        - Author :: @rszym88\n",
    "        -Version xx.xx\n"
   ]
  },
  {
   "cell_type": "markdown",
   "metadata": {},
   "source": [
    "##  :: Files ::  \n",
    "    [+] openBrewApiEx.ipynb\n",
    "        - About this file\n",
    "    [+] openBrewAPI.py\n",
    "        - About this file too\n"
   ]
  },
  {
   "cell_type": "markdown",
   "metadata": {},
   "source": [
    "## ::  Links :: \n",
    "##### [Google](http://www.google.com)  \n",
    "    - About this link\n",
    "##### [tehcno](http://www.technologyrediscovery.com/)  \n",
    "    - About this link\n",
    "##### [ccac](www.gmail.com)   \n",
    "    - about this link\n",
    "##### [another](wwww.google.com)  \n",
    "    - about that link too"
   ]
  },
  {
   "cell_type": "markdown",
   "metadata": {},
   "source": [
    "## :: Notes ::  \n",
    "    [+] Here are my notes"
   ]
  },
  {
   "cell_type": "code",
   "execution_count": null,
   "metadata": {},
   "outputs": [],
   "source": []
  }
 ],
 "metadata": {
  "kernelspec": {
   "display_name": "Python 3",
   "language": "python",
   "name": "python3"
  },
  "language_info": {
   "codemirror_mode": {
    "name": "ipython",
    "version": 3
   },
   "file_extension": ".py",
   "mimetype": "text/x-python",
   "name": "python",
   "nbconvert_exporter": "python",
   "pygments_lexer": "ipython3",
   "version": "3.7.3"
  }
 },
 "nbformat": 4,
 "nbformat_minor": 4
}
