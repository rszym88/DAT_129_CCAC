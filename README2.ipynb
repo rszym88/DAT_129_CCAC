{
 "cells": [
  {
   "cell_type": "markdown",
   "metadata": {},
   "source": [
    "# Heading 1  "
   ]
  },
  {
   "cell_type": "markdown",
   "metadata": {},
   "source": [
    "## Heading 2 \n",
    "    -This is little text\n",
    "This is a paragraph.  \n",
    "    - This is about the paragraph\n",
    "Lists\n",
    "- Thing 1\n",
    "- Thing 2\n",
    "    - anto\n",
    "    - Item 2\n",
    "    - help[ \n",
    "    - \n",
    "        - Another item\n",
    "            - Another Level\n",
    "                - Last Level\n",
    "        - This Level- sdfsfs\n",
    "\n",
    "### Heading 3\n",
    "This is another paragraph\n",
    "#### Heading4 \n",
    "## This is really ***very*** important text.\n",
    "\n"
   ]
  },
  {
   "cell_type": "markdown",
   "metadata": {},
   "source": [
    "> #### The quarterly results look great!\n",
    ">\n",
    "> - Revenue was off the chart.\n",
    "> - Profits were higher than ever.\n",
    ">\n",
    ">  *Everything* is going according to **plan**."
   ]
  },
  {
   "cell_type": "markdown",
   "metadata": {},
   "source": [
    "> ### *This* is a **nested** ***subtitle heading 3***\n",
    ">#### *This* is a **nested** **nested** ***subtitle heading 4***\n",
    ">> #### - **DOUBLE NESTED**\n",
    ">> - Thing 1\n",
    ">> - Thing 2  \n",
    ">> #### - **NEW HEADING LEVEL**\n",
    ">>> 1.Ordered Things  \n",
    ">>> 2.Order Things 2  \n",
    ">>> 3.Another thign   "
   ]
  },
  {
   "cell_type": "markdown",
   "metadata": {},
   "source": [
    "* Here is the first\n",
    "    > Block\n",
    "    > at prompt type.  \n",
    "    > ''$ 'this command' ''"
   ]
  },
  {
   "cell_type": "markdown",
   "metadata": {},
   "source": [
    "# Lets View an Image\n",
    "![Image](https://upload.wikimedia.org/wikipedia/commons/8/87/Arduino_Logo.svg)\t"
   ]
  },
  {
   "cell_type": "code",
   "execution_count": null,
   "metadata": {},
   "outputs": [],
   "source": []
  }
 ],
 "metadata": {
  "kernelspec": {
   "display_name": "Python 3",
   "language": "python",
   "name": "python3"
  },
  "language_info": {
   "codemirror_mode": {
    "name": "ipython",
    "version": 3
   },
   "file_extension": ".py",
   "mimetype": "text/x-python",
   "name": "python",
   "nbconvert_exporter": "python",
   "pygments_lexer": "ipython3",
   "version": "3.7.3"
  }
 },
 "nbformat": 4,
 "nbformat_minor": 4
}
